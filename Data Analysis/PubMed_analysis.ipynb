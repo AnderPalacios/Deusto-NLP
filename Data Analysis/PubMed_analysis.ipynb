{
 "cells": [
  {
   "cell_type": "markdown",
   "id": "9a8f1205",
   "metadata": {},
   "source": [
    "## **Basic Statistics for PubMed**"
   ]
  },
  {
   "cell_type": "code",
   "execution_count": null,
   "id": "4a4bfdfe",
   "metadata": {},
   "outputs": [],
   "source": [
    "import pandas as pd\n",
    "import numpy as np\n",
    "import seaborn as sns\n",
    "import matplotlib.pyplot as plt\n",
    "import warnings\n",
    "from sklearn.feature_extraction.text import CountVectorizer\n",
    "from collections import Counter\n",
    "import ast\n",
    "\n",
    "warnings.filterwarnings(\"ignore\")"
   ]
  },
  {
   "cell_type": "code",
   "execution_count": 2,
   "id": "47107211",
   "metadata": {},
   "outputs": [],
   "source": [
    "dataset = pd.read_csv(\"../PubMed_dataset.csv\")"
   ]
  },
  {
   "cell_type": "code",
   "execution_count": null,
   "id": "14dbfeda",
   "metadata": {},
   "outputs": [
    {
     "data": {
      "image/png": "[encoded data removed]",
      "text/plain": [
       "<Figure size 1000x600 with 1 Axes>"
      ]
     },
     "metadata": {},
     "output_type": "display_data"
    }
   ],
   "source": [
    "# Count instances per label\n",
    "label_counts = dataset['label'].value_counts()\n",
    "\n",
    "# Plot\n",
    "plt.figure(figsize=(10,6))\n",
    "ax = sns.barplot(x=label_counts.index, y=label_counts.values, palette=\"tab10\")\n",
    "plt.title(\"Distribution of Papers per Label\")\n",
    "plt.xlabel(\"Label\")\n",
    "plt.ylabel(\"Number of Papers\")\n",
    "plt.xticks(rotation=45)\n",
    "\n",
    "# Add counts on top of bars using bar positions\n",
    "for bar in ax.patches:\n",
    "    height = bar.get_height()\n",
    "    x_pos = bar.get_x() + bar.get_width() / 2\n",
    "    ax.text(x_pos, height + max(label_counts.values)*0.01, str(int(height)), ha='center', va='bottom')\n",
    "\n",
    "plt.show()\n"
   ]
  },
  {
   "cell_type": "code",
   "execution_count": null,
   "id": "e2b34abf",
   "metadata": {},
   "outputs": [
    {
     "name": "stdout",
     "output_type": "stream",
     "text": [
      "\n",
      "Label 1:\n",
      "rat: 278.2934\n",
      "mice: 104.4729\n",
      "nerv: 89.2431\n",
      "activ: 88.5772\n",
      "anim: 88.2314\n",
      "cell: 83.8791\n",
      "streptozotocin: 68.3118\n",
      "\n",
      "Label 2:\n",
      "cell: 188.9158\n",
      "iddm: 181.0965\n",
      "nod: 145.0986\n",
      "patient: 144.5892\n",
      "children: 131.7061\n",
      "mice: 126.7887\n",
      "t: 124.1628\n",
      "\n",
      "Label 3:\n",
      "0: 149.0784\n",
      "patient: 137.0470\n",
      "insulin: 130.8062\n",
      "2: 127.3325\n",
      "niddm: 124.0419\n",
      "glucos: 121.1521\n",
      "risk: 102.3290\n"
     ]
    }
   ],
   "source": [
    "dataset['TFIDF'] = dataset['TFIDF'].apply(lambda x: ast.literal_eval(x) if isinstance(x, str) else x)\n",
    "\n",
    "# Function to get top N words per label based on the cummulative TF-IDF\n",
    "def top_tfidf_words(df, label_col='label', tfidf_col='TFIDF', top_n=10):\n",
    "    labels = df[label_col].unique()\n",
    "    top_words = {}\n",
    "    \n",
    "    for lbl in labels:\n",
    "        subset = df[df[label_col] == lbl]\n",
    "        word_scores = Counter()\n",
    "        for tfidf_dict in subset[tfidf_col]:\n",
    "            word_scores.update(tfidf_dict)\n",
    "        top_words[lbl] = word_scores.most_common(top_n)\n",
    "    return top_words\n",
    "\n",
    "top_words_tfidf = top_tfidf_words(dataset, top_n=7)\n",
    "\n",
    "# Display\n",
    "for lbl, words in top_words_tfidf.items():\n",
    "    print(f\"\\nLabel {lbl}:\")\n",
    "    for word, score in words:\n",
    "        print(f\"{word}: {score:.4f}\")\n"
   ]
  },
  {
   "cell_type": "code",
   "execution_count": 13,
   "id": "90586111",
   "metadata": {},
   "outputs": [
    {
     "name": "stdout",
     "output_type": "stream",
     "text": [
      "\n",
      "Label 1:\n",
      "diabetic rats: 5197\n",
      "mg kg: 1256\n",
      "diabetic animals: 1074\n",
      "diabetes mellitus: 939\n",
      "streptozotocin induced: 879\n",
      "control rats: 868\n",
      "induced diabetic: 858\n",
      "\n",
      "Label 2:\n",
      "type diabetes: 7775\n",
      "diabetes mellitus: 3576\n",
      "insulin dependent: 3445\n",
      "diabetic patients: 2827\n",
      "dependent diabetes: 2568\n",
      "insulin dependent diabetes: 2546\n",
      "nod mice: 2203\n",
      "\n",
      "Label 3:\n",
      "type diabetes: 11331\n",
      "diabetes mellitus: 3704\n",
      "diabetic patients: 3059\n",
      "insulin resistance: 2771\n",
      "patients type: 2502\n",
      "patients type diabetes: 2196\n",
      "glucose tolerance: 2024\n"
     ]
    }
   ],
   "source": [
    "def top_ngrams_per_label(df, text_col='Abstract', label_col='label', ngram_range=(2,3), top_n=10):\n",
    "    labels = df[label_col].unique()\n",
    "    top_ngrams = {}\n",
    "    \n",
    "    for lbl in labels:\n",
    "        subset = df[df[label_col] == lbl]\n",
    "        texts = subset[text_col].dropna().tolist()\n",
    "        if not texts:\n",
    "            continue\n",
    "        vectorizer = CountVectorizer(ngram_range=ngram_range, stop_words='english')\n",
    "        X = vectorizer.fit_transform(texts)\n",
    "        sum_words = X.sum(axis=0)\n",
    "        words_freq = [(word, sum_words[0, idx]) for word, idx in vectorizer.vocabulary_.items()]\n",
    "        words_freq = sorted(words_freq, key=lambda x: x[1], reverse=True)[:top_n]\n",
    "        top_ngrams[lbl] = words_freq\n",
    "    return top_ngrams\n",
    "\n",
    "top_ngrams = top_ngrams_per_label(dataset, text_col='Abstract', ngram_range=(2,3), top_n=7)\n",
    "\n",
    "# Display\n",
    "for lbl, ngrams in top_ngrams.items():\n",
    "    print(f\"\\nLabel {lbl}:\")\n",
    "    for ngram, count in ngrams:\n",
    "        print(f\"{ngram}: {count}\")\n"
   ]
  }
 ],
 "metadata": {
  "kernelspec": {
   "display_name": "Python 3",
   "language": "python",
   "name": "python3"
  },
  "language_info": {
   "codemirror_mode": {
    "name": "ipython",
    "version": 3
   },
   "file_extension": ".py",
   "mimetype": "text/x-python",
   "name": "python",
   "nbconvert_exporter": "python",
   "pygments_lexer": "ipython3",
   "version": "3.12.6"
  }
 },
 "nbformat": 4,
 "nbformat_minor": 5
}
