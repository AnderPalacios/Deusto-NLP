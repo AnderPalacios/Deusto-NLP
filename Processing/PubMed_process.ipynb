{
 "cells": [
  {
   "cell_type": "markdown",
   "id": "9726fe46",
   "metadata": {},
   "source": [
    "## **This notebook processes the PubMed dataset ready for analysis**"
   ]
  },
  {
   "cell_type": "code",
   "execution_count": 1,
   "id": "3ad94421",
   "metadata": {},
   "outputs": [],
   "source": [
    "import pandas as pd\n",
    "import numpy as np\n",
    "import json\n",
    "from processing_pubMed import ProcessPubMed"
   ]
  },
  {
   "cell_type": "code",
   "execution_count": 2,
   "id": "ad714a67",
   "metadata": {},
   "outputs": [],
   "source": [
    "PubMed_Processing = ProcessPubMed()"
   ]
  },
  {
   "cell_type": "code",
   "execution_count": 3,
   "id": "a4deaf8b",
   "metadata": {},
   "outputs": [
    {
     "name": "stdout",
     "output_type": "stream",
     "text": [
      "Dataset contains as many instances as nodes in the original dataset: True\n"
     ]
    }
   ],
   "source": [
    "with open(PubMed_Processing.PUBMED_JSON, \"r\") as file:\n",
    "     data = json.load(file)\n",
    "\n",
    "print(f\"Dataset contains as many instances as nodes in the original dataset: {PubMed_Processing.NUM_NODES_PUBMED == len(data)}\")"
   ]
  },
  {
   "cell_type": "markdown",
   "id": "1b6e841d",
   "metadata": {},
   "source": [
    "## **Dataset cleaning**"
   ]
  },
  {
   "cell_type": "code",
   "execution_count": 4,
   "id": "f792765c",
   "metadata": {},
   "outputs": [
    {
     "name": "stdout",
     "output_type": "stream",
     "text": [
      "Data to proces; number of fields: 31\n",
      "Fields for each paper: ['PMID', 'OWN', 'STAT', 'DCOM', 'LR', 'IS', 'VI', 'IP', 'DP', 'TI', 'PG', 'AB', 'FAU', 'AU', 'AD', 'LA', 'PT', 'PL', 'TA', 'JT', 'JID', 'RN', 'SB', 'MH', 'EDAT', 'MHDA', 'CRDT', 'PHST', 'AID', 'PST', 'SO']\n",
      "Missing identifiers: 1\n",
      "Missing titles: 1\n",
      "Missing abstracts: 1\n",
      "Missing medical headers: 1\n",
      "Missing authors: 111\n"
     ]
    }
   ],
   "source": [
    "print(f\"Data to proces; number of fields: {len(data[0])}\")\n",
    "print(f\"Fields for each paper: {[k for k, v in data[0].items()]}\")\n",
    "\n",
    "# Look for useful fields\n",
    "PubMed_Processing.get_data_info(data)"
   ]
  },
  {
   "cell_type": "code",
   "execution_count": 5,
   "id": "84f04ef9",
   "metadata": {},
   "outputs": [
    {
     "name": "stdout",
     "output_type": "stream",
     "text": [
      "Missing identifiers: 0\n",
      "Missing titles: 0\n",
      "Missing abstracts: 0\n",
      "Missing medical headers: 0\n",
      "Missing authors: 110\n"
     ]
    }
   ],
   "source": [
    "data = PubMed_Processing.get_valid_papers(data)\n",
    "PubMed_Processing.get_data_info(data)"
   ]
  },
  {
   "cell_type": "code",
   "execution_count": 6,
   "id": "1d9046ce",
   "metadata": {},
   "outputs": [
    {
     "name": "stdout",
     "output_type": "stream",
     "text": [
      "Useful variables: ['PMID', 'TI', 'AB', 'MH', 'FAU']\n",
      "PMID                                              2784589\n",
      "TI      High frequency of coeliac disease in adult pat...\n",
      "AB      Anti-reticulin antibodies were measured by an ...\n",
      "MH      [Adolescent, Adult, Antibodies, Anti-Idiotypic...\n",
      "FAU     [Collin, P, Salmi, J, Hallstrom, O, Oksa, H, O...\n",
      "Name: 12265, dtype: object\n",
      "PMID                                              2784589\n",
      "TI      High frequency of coeliac disease in adult pat...\n",
      "AB      Anti-reticulin antibodies were measured by an ...\n",
      "MH      Adolescent; Adult; Antibodies, Anti-Idiotypic/...\n",
      "FAU     Collin, P; Salmi, J; Hallstrom, O; Oksa, H; Ok...\n",
      "Name: 12265, dtype: object\n",
      "Number of missing values: PMID      0\n",
      "TI        0\n",
      "AB        0\n",
      "MH        0\n",
      "FAU     110\n",
      "dtype: int64\n"
     ]
    }
   ],
   "source": [
    "data = PubMed_Processing.get_features(data) \n",
    "print(f\"Useful variables: {[k for k, v in data[0].items()]}\") # Identifier, Title, Abstract, Paper Key words, Authors\n",
    "\n",
    "df = PubMed_Processing.to_pandas(data)\n",
    "\n",
    "random_row = np.random.randint(0, len(df)-1)\n",
    "print(df.iloc[random_row, :])\n",
    "\n",
    "df = PubMed_Processing.flatten_lists(df)\n",
    "print(df.iloc[random_row, :])\n",
    "\n",
    "# Missing values should just be those 110 authors:\n",
    "print(f\"Number of missing values: {PubMed_Processing.get_missing(df)}\") # It has to be equal to 110 for the authors\n",
    "\n",
    "\n",
    "# Parse column types\n",
    "df = PubMed_Processing.parse_columns(df)"
   ]
  },
  {
   "cell_type": "code",
   "execution_count": 7,
   "id": "d5b30a1b",
   "metadata": {},
   "outputs": [
    {
     "name": "stdout",
     "output_type": "stream",
     "text": [
      "Same IDs in both datasets\n",
      "PMID                                                      12187484\n",
      "label                                                            1\n",
      "tfidf_words      {'rat': 0.09393489570187145, 'common': 0.02869...\n",
      "summary_words    [rat, common, use, examin, pathogenesi, retino...\n",
      "Name: 0, dtype: object\n"
     ]
    }
   ],
   "source": [
    "file_path = PubMed_Processing.FILE_PATH\n",
    "\n",
    "PubMed_Processing.compare_files(file_path, df)\n",
    "\n",
    "# Create a dataset from the .cites file\n",
    "tf_idf_df = PubMed_Processing.create_df(file_path)\n",
    "print(tf_idf_df.iloc[0, :])\n",
    "\n",
    "merged_df = PubMed_Processing.merge_datasets(df, tf_idf_df)"
   ]
  },
  {
   "cell_type": "code",
   "execution_count": 8,
   "id": "68e9e999",
   "metadata": {},
   "outputs": [
    {
     "data": {
      "text/html": [
       "<div>\n",
       "<style scoped>\n",
       "    .dataframe tbody tr th:only-of-type {\n",
       "        vertical-align: middle;\n",
       "    }\n",
       "\n",
       "    .dataframe tbody tr th {\n",
       "        vertical-align: top;\n",
       "    }\n",
       "\n",
       "    .dataframe thead th {\n",
       "        text-align: right;\n",
       "    }\n",
       "</style>\n",
       "<table border=\"1\" class=\"dataframe\">\n",
       "  <thead>\n",
       "    <tr style=\"text-align: right;\">\n",
       "      <th></th>\n",
       "      <th>PMID</th>\n",
       "      <th>Title</th>\n",
       "      <th>Abstract</th>\n",
       "      <th>Key_words</th>\n",
       "      <th>Authors</th>\n",
       "      <th>label</th>\n",
       "      <th>TFIDF</th>\n",
       "      <th>summary_words</th>\n",
       "    </tr>\n",
       "  </thead>\n",
       "  <tbody>\n",
       "    <tr>\n",
       "      <th>0</th>\n",
       "      <td>12187484</td>\n",
       "      <td>Retinal metabolic abnormalities in diabetic mo...</td>\n",
       "      <td>PURPOSE: Dogs and rats are commonly used to ex...</td>\n",
       "      <td>Animals; Diabetes Mellitus, Experimental/*meta...</td>\n",
       "      <td>Kowluru, Renu A</td>\n",
       "      <td>1</td>\n",
       "      <td>{'rat': 0.09393489570187145, 'common': 0.02869...</td>\n",
       "      <td>[rat, common, use, examin, pathogenesi, retino...</td>\n",
       "    </tr>\n",
       "    <tr>\n",
       "      <th>1</th>\n",
       "      <td>2344352</td>\n",
       "      <td>Spatially resolved changes in diabetic rat ske...</td>\n",
       "      <td>Phase-modulated rotating-frame imaging (p.m.r....</td>\n",
       "      <td>Adenosine Triphosphate/metabolism; Animals; Di...</td>\n",
       "      <td>Challiss, R A; Blackledge, M J; Radda, G K</td>\n",
       "      <td>1</td>\n",
       "      <td>{'rat': 0.023617916633613394, 'use': 0.0147841...</td>\n",
       "      <td>[rat, use, anim, metabol, investig, 2, compar,...</td>\n",
       "    </tr>\n",
       "    <tr>\n",
       "      <th>2</th>\n",
       "      <td>14654069</td>\n",
       "      <td>Mitochondria respiration and susceptibility to...</td>\n",
       "      <td>Cardiovascular complications are the primary c...</td>\n",
       "      <td>Animals; Body Weight/physiology; Cell Respirat...</td>\n",
       "      <td>Lashin, Ossama; Romani, Andrea</td>\n",
       "      <td>1</td>\n",
       "      <td>{'rat': 0.10226314418677966, 'use': 0.01066898...</td>\n",
       "      <td>[rat, use, anim, contribut, develop, investig,...</td>\n",
       "    </tr>\n",
       "    <tr>\n",
       "      <th>3</th>\n",
       "      <td>16443886</td>\n",
       "      <td>Mean blood glucose and biological variation ha...</td>\n",
       "      <td>OBJECTIVE: Mean blood glucose (MBG) over 2-3 m...</td>\n",
       "      <td>Blood Glucose/*analysis; Diabetes Mellitus, Ty...</td>\n",
       "      <td>McCarter, Robert J; Hempe, James M; Chalew, St...</td>\n",
       "      <td>2</td>\n",
       "      <td>{'model': 0.038714646134547365, 'develop': 0.0...</td>\n",
       "      <td>[model, develop, month, method, level, result,...</td>\n",
       "    </tr>\n",
       "    <tr>\n",
       "      <th>4</th>\n",
       "      <td>2684155</td>\n",
       "      <td>Regulation of very-low-density-lipoprotein lip...</td>\n",
       "      <td>Hepatocytes were derived from 2-3-day streptoz...</td>\n",
       "      <td>Animals; Cells, Cultured; Cholesterol/analysis...</td>\n",
       "      <td>Duerden, J M; Bartlett, S M; Gibbons, G F</td>\n",
       "      <td>1</td>\n",
       "      <td>{'rat': 0.030615817858387732, 'anim': 0.080179...</td>\n",
       "      <td>[rat, anim, compar, normal, level, result, inc...</td>\n",
       "    </tr>\n",
       "    <tr>\n",
       "      <th>5</th>\n",
       "      <td>15032912</td>\n",
       "      <td>Specific changes of somatostatin mRNA expressi...</td>\n",
       "      <td>Abstract Most current studies of diabetic ence...</td>\n",
       "      <td>Animals; *Brain Chemistry; Dementia/complicati...</td>\n",
       "      <td>XiaoMing, Zhang; Xi, Zhu; Fang, Shen; Jilin, Zhou</td>\n",
       "      <td>1</td>\n",
       "      <td>{'rat': 0.11689675909566226, 'studi': 0.005201...</td>\n",
       "      <td>[rat, studi, metabol, 2, compar, 6, inject, 30...</td>\n",
       "    </tr>\n",
       "    <tr>\n",
       "      <th>6</th>\n",
       "      <td>17988185</td>\n",
       "      <td>Glycemic response to newly initiated diabetes ...</td>\n",
       "      <td>OBJECTIVE: The glycemic response to antihyperg...</td>\n",
       "      <td>Blood Glucose/*drug effects; Diabetes Mellitus...</td>\n",
       "      <td>Karter, Andrew J; Moffet, Howard H; Liu, Jenni...</td>\n",
       "      <td>3</td>\n",
       "      <td>{'use': 0.007445259958367352, 'studi': 0.01111...</td>\n",
       "      <td>[use, studi, model, 2, month, method, 30, leve...</td>\n",
       "    </tr>\n",
       "    <tr>\n",
       "      <th>7</th>\n",
       "      <td>9834350</td>\n",
       "      <td>The gastric bypass operation reduces the progr...</td>\n",
       "      <td>Of 232 morbidly obese patients with non-insuli...</td>\n",
       "      <td>Adult; Blood Glucose/analysis; Cardiovascular ...</td>\n",
       "      <td>MacDonald, K G Jr; Long, S D; Swanson, M S; Br...</td>\n",
       "      <td>3</td>\n",
       "      <td>{'2': 0.006157469794431223, 'compar': 0.031883...</td>\n",
       "      <td>[2, compar, 6, level, increas, p, control, mas...</td>\n",
       "    </tr>\n",
       "    <tr>\n",
       "      <th>8</th>\n",
       "      <td>16230722</td>\n",
       "      <td>Exenatide versus insulin glargine in patients ...</td>\n",
       "      <td>BACKGROUND: Physicians may use either insulin ...</td>\n",
       "      <td>Adult; Aged; Blood Glucose/metabolism; Blood G...</td>\n",
       "      <td>Heine, Robert J; Van Gaal, Luc F; Johns, Don; ...</td>\n",
       "      <td>3</td>\n",
       "      <td>{'common': 0.010479105166473187, 'use': 0.0042...</td>\n",
       "      <td>[common, use, studi, 2, compar, 6, inject, lev...</td>\n",
       "    </tr>\n",
       "    <tr>\n",
       "      <th>9</th>\n",
       "      <td>3542527</td>\n",
       "      <td>Assessing daily management in childhood diabetes.</td>\n",
       "      <td>One hundred sixty-eight patients with childhoo...</td>\n",
       "      <td>Adolescent; Blood Glucose/metabolism; Child; D...</td>\n",
       "      <td>Johnson, Suzanne B; Silverstein, Janet; Rosenb...</td>\n",
       "      <td>2</td>\n",
       "      <td>{'use': 0.027970030654407077, 'studi': 0.01391...</td>\n",
       "      <td>[use, studi, obtain, 6, measur, result, group,...</td>\n",
       "    </tr>\n",
       "  </tbody>\n",
       "</table>\n",
       "</div>"
      ],
      "text/plain": [
       "       PMID                                              Title  \\\n",
       "0  12187484  Retinal metabolic abnormalities in diabetic mo...   \n",
       "1   2344352  Spatially resolved changes in diabetic rat ske...   \n",
       "2  14654069  Mitochondria respiration and susceptibility to...   \n",
       "3  16443886  Mean blood glucose and biological variation ha...   \n",
       "4   2684155  Regulation of very-low-density-lipoprotein lip...   \n",
       "5  15032912  Specific changes of somatostatin mRNA expressi...   \n",
       "6  17988185  Glycemic response to newly initiated diabetes ...   \n",
       "7   9834350  The gastric bypass operation reduces the progr...   \n",
       "8  16230722  Exenatide versus insulin glargine in patients ...   \n",
       "9   3542527  Assessing daily management in childhood diabetes.   \n",
       "\n",
       "                                            Abstract  \\\n",
       "0  PURPOSE: Dogs and rats are commonly used to ex...   \n",
       "1  Phase-modulated rotating-frame imaging (p.m.r....   \n",
       "2  Cardiovascular complications are the primary c...   \n",
       "3  OBJECTIVE: Mean blood glucose (MBG) over 2-3 m...   \n",
       "4  Hepatocytes were derived from 2-3-day streptoz...   \n",
       "5  Abstract Most current studies of diabetic ence...   \n",
       "6  OBJECTIVE: The glycemic response to antihyperg...   \n",
       "7  Of 232 morbidly obese patients with non-insuli...   \n",
       "8  BACKGROUND: Physicians may use either insulin ...   \n",
       "9  One hundred sixty-eight patients with childhoo...   \n",
       "\n",
       "                                           Key_words  \\\n",
       "0  Animals; Diabetes Mellitus, Experimental/*meta...   \n",
       "1  Adenosine Triphosphate/metabolism; Animals; Di...   \n",
       "2  Animals; Body Weight/physiology; Cell Respirat...   \n",
       "3  Blood Glucose/*analysis; Diabetes Mellitus, Ty...   \n",
       "4  Animals; Cells, Cultured; Cholesterol/analysis...   \n",
       "5  Animals; *Brain Chemistry; Dementia/complicati...   \n",
       "6  Blood Glucose/*drug effects; Diabetes Mellitus...   \n",
       "7  Adult; Blood Glucose/analysis; Cardiovascular ...   \n",
       "8  Adult; Aged; Blood Glucose/metabolism; Blood G...   \n",
       "9  Adolescent; Blood Glucose/metabolism; Child; D...   \n",
       "\n",
       "                                             Authors  label  \\\n",
       "0                                    Kowluru, Renu A      1   \n",
       "1         Challiss, R A; Blackledge, M J; Radda, G K      1   \n",
       "2                     Lashin, Ossama; Romani, Andrea      1   \n",
       "3  McCarter, Robert J; Hempe, James M; Chalew, St...      2   \n",
       "4          Duerden, J M; Bartlett, S M; Gibbons, G F      1   \n",
       "5  XiaoMing, Zhang; Xi, Zhu; Fang, Shen; Jilin, Zhou      1   \n",
       "6  Karter, Andrew J; Moffet, Howard H; Liu, Jenni...      3   \n",
       "7  MacDonald, K G Jr; Long, S D; Swanson, M S; Br...      3   \n",
       "8  Heine, Robert J; Van Gaal, Luc F; Johns, Don; ...      3   \n",
       "9  Johnson, Suzanne B; Silverstein, Janet; Rosenb...      2   \n",
       "\n",
       "                                               TFIDF  \\\n",
       "0  {'rat': 0.09393489570187145, 'common': 0.02869...   \n",
       "1  {'rat': 0.023617916633613394, 'use': 0.0147841...   \n",
       "2  {'rat': 0.10226314418677966, 'use': 0.01066898...   \n",
       "3  {'model': 0.038714646134547365, 'develop': 0.0...   \n",
       "4  {'rat': 0.030615817858387732, 'anim': 0.080179...   \n",
       "5  {'rat': 0.11689675909566226, 'studi': 0.005201...   \n",
       "6  {'use': 0.007445259958367352, 'studi': 0.01111...   \n",
       "7  {'2': 0.006157469794431223, 'compar': 0.031883...   \n",
       "8  {'common': 0.010479105166473187, 'use': 0.0042...   \n",
       "9  {'use': 0.027970030654407077, 'studi': 0.01391...   \n",
       "\n",
       "                                       summary_words  \n",
       "0  [rat, common, use, examin, pathogenesi, retino...  \n",
       "1  [rat, use, anim, metabol, investig, 2, compar,...  \n",
       "2  [rat, use, anim, contribut, develop, investig,...  \n",
       "3  [model, develop, month, method, level, result,...  \n",
       "4  [rat, anim, compar, normal, level, result, inc...  \n",
       "5  [rat, studi, metabol, 2, compar, 6, inject, 30...  \n",
       "6  [use, studi, model, 2, month, method, 30, leve...  \n",
       "7  [2, compar, 6, level, increas, p, control, mas...  \n",
       "8  [common, use, studi, 2, compar, 6, inject, lev...  \n",
       "9  [use, studi, obtain, 6, measur, result, group,...  "
      ]
     },
     "execution_count": 8,
     "metadata": {},
     "output_type": "execute_result"
    }
   ],
   "source": [
    "merged_df.head(10)"
   ]
  },
  {
   "cell_type": "code",
   "execution_count": 9,
   "id": "ea6f0773",
   "metadata": {},
   "outputs": [],
   "source": [
    "# Store the dataframe\n",
    "PubMed_Processing.to_csv(merged_df)"
   ]
  }
 ],
 "metadata": {
  "kernelspec": {
   "display_name": "Python 3",
   "language": "python",
   "name": "python3"
  },
  "language_info": {
   "codemirror_mode": {
    "name": "ipython",
    "version": 3
   },
   "file_extension": ".py",
   "mimetype": "text/x-python",
   "name": "python",
   "nbconvert_exporter": "python",
   "pygments_lexer": "ipython3",
   "version": "3.12.6"
  }
 },
 "nbformat": 4,
 "nbformat_minor": 5
}
